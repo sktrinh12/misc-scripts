{
 "cells": [
  {
   "cell_type": "code",
   "execution_count": null,
   "id": "56a774e7-af77-466f-a290-8708b9fdcedd",
   "metadata": {},
   "outputs": [],
   "source": [
    "import pandas as pd\n",
    "import plotly.express as px\n",
    "import plotly.graph_objects as go\n",
    "from plotly.subplots import make_subplots\n",
    "from datetime import datetime\n",
    "import re\n",
    "import os\n",
    "import glob\n",
    "import math"
   ]
  },
  {
   "cell_type": "code",
   "execution_count": null,
   "id": "d9cf273d-6719-47b8-8026-62f1a40a31a3",
   "metadata": {
    "scrolled": true
   },
   "outputs": [],
   "source": [
    "file_path = \"fidelity_gen_custom_portfolio.csv\"\n",
    "df = pd.read_csv(\n",
    "    os.path.join(os.path.expanduser('~'),\n",
    "                 'work', 'Downloads', 'finances', file_path),\n",
    "                delimiter='|')\n",
    "df.head()"
   ]
  },
  {
   "cell_type": "code",
   "execution_count": null,
   "id": "836dd13e-6f08-4ac9-9836-3bc086e4625e",
   "metadata": {},
   "outputs": [],
   "source": [
    "def parse_currency(value):\n",
    "    return float(re.sub(r'[^0-9.]', '', value))\n",
    "\n",
    "df[\"Balance\"] = df[\"Balance\"].apply(parse_currency)\n",
    "\n",
    "total_balance = df[\"Balance\"].sum()\n",
    "title_text = f\"Fund Distribution (Total: ${total_balance:,.2f})\"\n",
    "df_sorted = df.sort_values(\"Balance\", ascending=True).reset_index(drop=True)"
   ]
  },
  {
   "cell_type": "code",
   "execution_count": null,
   "id": "e463f58c-b537-4632-9cf0-ed05a6aca1ee",
   "metadata": {},
   "outputs": [],
   "source": [
    "fig = px.treemap(\n",
    "    df,\n",
    "    path=[\"Fund\"],\n",
    "    values=\"Balance\",\n",
    "    title=title_text,\n",
    "    color=\"Balance\",\n",
    "    color_continuous_scale=\"Blues\",\n",
    "    hover_data={\"Balance\": True},\n",
    ")\n",
    "\n",
    "fig.update_traces(textinfo=\"label+value\")\n",
    "fig.show()"
   ]
  },
  {
   "cell_type": "code",
   "execution_count": null,
   "id": "ba81d9e2-acc7-43ff-b209-9f18a2b472a2",
   "metadata": {
    "scrolled": true
   },
   "outputs": [],
   "source": [
    "fig_bar = px.bar(\n",
    "    df_sorted,\n",
    "    x=\"Balance\",\n",
    "    y=\"Fund\",\n",
    "    orientation=\"h\",\n",
    "    title=title_text,\n",
    "    text_auto=True,\n",
    "    color=\"Balance\",\n",
    "    color_continuous_scale=\"Blues\",\n",
    ")\n",
    "fig_bar.update_layout(yaxis_title=\"\", xaxis_title=\"Balance ($)\", yaxis_showticklabels=False)\n",
    "fig_bar.show()"
   ]
  },
  {
   "cell_type": "code",
   "execution_count": null,
   "id": "ccd2b7dd-6021-49d5-949d-badd8c7b5b9f",
   "metadata": {},
   "outputs": [],
   "source": [
    "df['Fund']"
   ]
  },
  {
   "cell_type": "code",
   "execution_count": null,
   "id": "ea703a8b-cbd4-4f44-999c-abee13d3f9c5",
   "metadata": {},
   "outputs": [],
   "source": [
    "dfm = pd.read_csv(\n",
    "    os.path.join(os.path.expanduser('~'),\n",
    "                 'work', 'Downloads', 'finances', 'Portfolio_Positions_Mar-30-2025.csv'),\n",
    "                delimiter=',')\n",
    "dfm.head()"
   ]
  },
  {
   "cell_type": "code",
   "execution_count": null,
   "id": "f8ee0957-3c39-43c2-a511-b8f0eaf2673b",
   "metadata": {},
   "outputs": [],
   "source": [
    "pd.set_option('display.max_rows', None)\n",
    "pd.set_option('display.max_columns', None)\n",
    "pd.set_option('display.max_colwidth', None)"
   ]
  },
  {
   "cell_type": "code",
   "execution_count": null,
   "id": "cf1b0c1a-3626-40d7-b6e4-90d7949aa4be",
   "metadata": {
    "scrolled": true
   },
   "outputs": [],
   "source": [
    "dfm_filtered = dfm[\"Symbol\"].dropna()\n",
    "dfm_filtered[dfm_filtered.str.match(r'^[A-Z]{1,5}(\\.[A-Z])?$')]"
   ]
  },
  {
   "cell_type": "code",
   "execution_count": null,
   "id": "31e5cb26-cecc-4d30-be47-558a393ecc21",
   "metadata": {},
   "outputs": [],
   "source": [
    "remove_list = ['ARKG', 'ARKQ', 'BLDR', 'CRSP', 'FNILX', 'FROG', 'FSLY', 'FXAIX', 'FZILX', 'FZROX', 'NET', 'QQQ', 'SENS', 'SNOW', 'SOFI', 'BITB', 'TWLO']\n",
    "dfm[dfm[\"Symbol\"].isin(remove_list)][[\"Symbol\", \"Total Gain/Loss Dollar\"]]"
   ]
  },
  {
   "cell_type": "markdown",
   "id": "41d9ef4a-6aca-4bf9-8608-7fbc6a519242",
   "metadata": {},
   "source": [
    "## view asset allocation by account type FIDELITY"
   ]
  },
  {
   "cell_type": "code",
   "execution_count": null,
   "id": "6454f5ac-0d3e-43ae-a24d-fbb7c2fd2697",
   "metadata": {},
   "outputs": [],
   "source": [
    "ticker_to_category = {\n",
    "    \"VOO\": \"CORE\",\n",
    "    \"DIA\": \"CORE\",\n",
    "    \"IVV\": \"CORE\",\n",
    "    \"SPY\": \"CORE\",\n",
    "    \"VXUS\": \"INTL\",\n",
    "    \"VWO\": \"INTL\",\n",
    "    \"QQQ\": \"GROWTH\",\n",
    "    \"QQQM\": \"GROWTH\",\n",
    "    \"VGT\": \"GROWTH\",\n",
    "    \"VUG\": \"GROWTH\",\n",
    "    \"VNQ\": \"GROWTH\",\n",
    "    \"VOOG\": \"GROWTH\",\n",
    "    \"VYM\": \"GROWTH\",\n",
    "    \"BITB\": \"GROWTH\",\n",
    "    \"XSHD\": \"GROWTH\",\n",
    "    \"SCHD\": \"STABLE\",\n",
    "    \"AMD\": \"INDIVL\",\n",
    "    \"AAPL\": \"INDIVL\",\n",
    "    \"BLDR\": \"INDIVL\",\n",
    "    \"GOOGL\": \"INDIVL\",\n",
    "    \"HD\": \"INDIVL\",\n",
    "    \"JPM\": \"INDIVL\",\n",
    "    \"META\": \"INDIVL\",\n",
    "    \"NVDA\": \"INDIVL\",\n",
    "    \"JNJ\": \"INDIVL\",\n",
    "    \"PG\": \"INDIVL\",\n",
    "    \"SOFI\": \"INDIVL\",\n",
    "    \"T\": \"INDIVL\",\n",
    "    \"TGT\": \"INDIVL\",\n",
    "}\n",
    "\n",
    "export_date = 'Apr-29-2025'\n",
    "\n",
    "files = glob.glob(\n",
    "    os.path.join(os.path.expanduser('~'),\n",
    "                 'work', 'Downloads', 'finances', f'Portfolio_Positions_{export_date}*.csv'),\n",
    "    )\n",
    "\n",
    "dfs = [pd.read_csv(file) for file in files]\n",
    "combined = pd.concat(dfs)\n",
    "\n",
    "combined = combined.dropna(subset=[\"Symbol\", \"Current Value\"])  # Remove cash and empty rows\n",
    "combined[\"Current Value\"] = combined[\"Current Value\"].replace('[\\$,]', '', regex=True).astype(float)\n",
    "combined[\"Symbol\"] = combined[\"Symbol\"].str.strip()\n",
    "\n",
    "# Map to categories\n",
    "combined[\"Category\"] = combined[\"Symbol\"].map(ticker_to_category)\n",
    "combined = combined.dropna(subset=[\"Category\"])  # drop unmatched\n",
    "\n",
    "# ---------------------\n",
    "# OVERALL PIE CHART\n",
    "# ---------------------\n",
    "overall_summary = (\n",
    "    combined.groupby(\"Category\")\n",
    "    .agg({\n",
    "        \"Current Value\": \"sum\",\n",
    "        \"Symbol\": lambda x: \", \".join(sorted(set(x)))\n",
    "    })\n",
    "    .reset_index()\n",
    ")\n",
    "\n",
    "overall_summary = overall_summary.rename(columns={\"Symbol\": \"Tickers\"})\n",
    "total_value = overall_summary[\"Current Value\"].sum()\n",
    "formatted_total = f\"${total_value:,.2f}\"\n",
    "\n",
    "fig_overall = px.pie(\n",
    "    overall_summary,\n",
    "    names=\"Category\",\n",
    "    values=\"Current Value\",\n",
    "    title=f\"TOTAL Portfolio Breakdown (All Accounts) — {formatted_total}\",\n",
    "    hole=0.4,\n",
    "    hover_data=[\"Tickers\"]\n",
    ")\n",
    "\n",
    "fig_overall.update_traces(textinfo='percent+label')\n",
    "\n",
    "\n",
    "# Prep per-account grouped data\n",
    "facet_summary = (\n",
    "    combined.groupby([\"Account Name\", \"Category\"])\n",
    "    .agg({\n",
    "        \"Current Value\": \"sum\",\n",
    "        \"Symbol\": lambda x: \", \".join(sorted(set(x)))\n",
    "    })\n",
    "    .reset_index()\n",
    "    .rename(columns={\"Symbol\": \"Tickers\"})\n",
    ")\n",
    "\n",
    "account_totals = (\n",
    "    combined.groupby(\"Account Name\")[\"Current Value\"]\n",
    "    .sum()\n",
    "    .apply(lambda x: f\"${x:,.2f}\")\n",
    "    .to_dict()\n",
    ")\n",
    "\n",
    "# Format titles: \"Account Name — $Total\"\n",
    "accounts = facet_summary[\"Account Name\"].unique()\n",
    "subplot_titles = [f\"{acct} — {account_totals[acct]}\" for acct in accounts]\n",
    "n_accounts = len(accounts)\n",
    "n_cols = 2\n",
    "n_rows = math.ceil(n_accounts / n_cols)\n",
    "\n",
    "# Create subplots grid\n",
    "fig_faceted = make_subplots(\n",
    "    rows=n_rows,\n",
    "    cols=n_cols,\n",
    "    specs=[[{\"type\": \"domain\"}] * n_cols for _ in range(n_rows)],\n",
    "    subplot_titles=subplot_titles,\n",
    "    vertical_spacing=0.08  # ~1.25cm depending on screen; tweak as needed\n",
    ")\n",
    "\n",
    "# Add pies\n",
    "for i, account in enumerate(accounts):\n",
    "    row = i // n_cols + 1\n",
    "    col = i % n_cols + 1\n",
    "    df = facet_summary[facet_summary[\"Account Name\"] == account]\n",
    "\n",
    "    fig_faceted.add_trace(\n",
    "        go.Pie(\n",
    "            labels=df[\"Category\"],\n",
    "            values=df[\"Current Value\"],\n",
    "            textinfo=\"percent+label\",\n",
    "            hovertemplate=\"<b>%{label}</b><br>Value: %{value:$,.2f}<br>Tickers: %{customdata}\",\n",
    "            customdata=df[\"Tickers\"]\n",
    "        ),\n",
    "        row=row,\n",
    "        col=col\n",
    "    )\n",
    "\n",
    "# Format\n",
    "fig_faceted.update_layout(\n",
    "    height=350 * n_rows,\n",
    "    title_text=\"Portfolio Breakdown by Account (Facetted 2xN Layout)\",\n",
    "    title_x=0.5,\n",
    "    showlegend=False,\n",
    "    margin=dict(t=60, b=40, l=20, r=20)\n",
    ")\n",
    "\n",
    "fig_overall.show()\n",
    "fig_faceted.show()"
   ]
  },
  {
   "cell_type": "code",
   "execution_count": null,
   "id": "27ad4060-765d-479f-abcd-5df9e83a35aa",
   "metadata": {},
   "outputs": [],
   "source": [
    "selected_cols = ['Account Name', 'Symbol', 'Quantity']\n",
    "df_fid = pd.concat([df[selected_cols] for df in dfs], ignore_index=True)\n",
    "df_fid = df_fid[~((df_fid['Symbol'] == 'SPAXX**') | (df_fid['Quantity'].isna()))]"
   ]
  },
  {
   "cell_type": "code",
   "execution_count": null,
   "id": "f036bf61-6144-4241-85f5-098cab66e113",
   "metadata": {},
   "outputs": [],
   "source": [
    "print(df_fid)"
   ]
  },
  {
   "cell_type": "code",
   "execution_count": null,
   "id": "f386ef7c-1b61-4675-a52c-0f3d1257c420",
   "metadata": {},
   "outputs": [],
   "source": [
    "formatted_date = datetime.strptime(export_date, '%b-%d-%Y')\n",
    "formatted_date = formatted_date.strftime('%Y-%m-%d')\n",
    "file_path = os.path.join(os.path.expanduser('~'),\n",
    "                 'work', 'Downloads', 'finances', f'Roth_Individual_401(k)-Positions-{formatted_date}-*.csv')\n",
    "\n",
    "matching_files = glob.glob(file_path)\n",
    "\n",
    "if not matching_files:\n",
    "    raise FileNotFoundError(f\"No files found matching pattern: {file_path}\")\n",
    "\n",
    "first_matching_file = matching_files[0]\n",
    "\n",
    "with open(first_matching_file, 'r') as f:\n",
    "    first_line = f.readline().strip()\n",
    "\n",
    "match = re.search(r'account (.*?) \\.\\.\\.', first_line)\n",
    "account_type = match.group(1) if match else \"Unknown Account\"\n",
    "dft = pd.read_csv(first_matching_file, skiprows=2)\n",
    "df_cs = pd.DataFrame({\n",
    "    'Account Name': account_type,\n",
    "    'Symbol': dft['Symbol'],\n",
    "    'Quantity': dft['Qty (Quantity)']\n",
    "})\n",
    "df_cs = df_cs[df_cs['Quantity'].str.isdigit()]\n",
    "print(df_cs)"
   ]
  },
  {
   "cell_type": "code",
   "execution_count": null,
   "id": "1071f616-6a85-4ff8-8457-28e2a419a84b",
   "metadata": {},
   "outputs": [],
   "source": [
    "combined_df = pd.concat([df_fid, df_cs], ignore_index=True)\n",
    "combined_df"
   ]
  },
  {
   "cell_type": "code",
   "execution_count": null,
   "id": "365cb357-880c-4049-b4a7-d029720ee1ad",
   "metadata": {},
   "outputs": [],
   "source": [
    "file_path = os.path.join(os.path.expanduser('~'),\n",
    "                 'work', 'Downloads', 'finances', 'enriched_portfolio_analysis.csv')\n",
    "dff = pd.read_csv(file_path)\n",
    "dff"
   ]
  },
  {
   "cell_type": "markdown",
   "id": "173cd353-f407-44af-a1a5-024dcbe049d1",
   "metadata": {},
   "source": [
    "## buy list summary"
   ]
  },
  {
   "cell_type": "code",
   "execution_count": null,
   "id": "30e842f6-1e20-4c62-9b0f-8f445ff83140",
   "metadata": {},
   "outputs": [],
   "source": [
    "file_path = os.path.join(os.path.expanduser('~'),\n",
    "                 'work', 'Downloads', 'finances', 'portfolio_buy_list_summary.csv')\n",
    "dff = pd.read_csv(file_path)\n",
    "dff"
   ]
  },
  {
   "cell_type": "code",
   "execution_count": null,
   "id": "be980bb0-157e-4662-8cd4-9920dae576a5",
   "metadata": {},
   "outputs": [],
   "source": []
  }
 ],
 "metadata": {
  "kernelspec": {
   "display_name": "Python 3 (ipykernel)",
   "language": "python",
   "name": "python3"
  },
  "language_info": {
   "codemirror_mode": {
    "name": "ipython",
    "version": 3
   },
   "file_extension": ".py",
   "mimetype": "text/x-python",
   "name": "python",
   "nbconvert_exporter": "python",
   "pygments_lexer": "ipython3",
   "version": "3.11.6"
  }
 },
 "nbformat": 4,
 "nbformat_minor": 5
}
